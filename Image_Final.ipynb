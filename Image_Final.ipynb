{
 "cells": [
  {
   "cell_type": "code",
   "execution_count": null,
   "metadata": {},
   "outputs": [],
   "source": [
    "import PIL\n",
    "from PIL import Image,Image, ImageDraw, ImageFont,ImageEnhance\n",
    "\n",
    "# Reads Image.\n",
    "image=Image.open(\"maxresdefault.png\")\n",
    "image=image.convert('RGB')\n",
    "\n",
    "# Uncomment to display Image.\n",
    "# display(image)"
   ]
  },
  {
   "cell_type": "code",
   "execution_count": null,
   "metadata": {},
   "outputs": [],
   "source": [
    "fnt = ImageFont.truetype('EmojiOneMozilla.ttf', 25)\n",
    "data1 = []\n",
    "for i in [0,1,2]:\n",
    "    for j in [0.1,0.5,0.9]:\n",
    "        txt = Image.new('RGBA', (image.width,30), (0,0,0,255))\n",
    "        d = ImageDraw.Draw(txt)\n",
    "        d.text((0,0), f\"channel {i} intensity {j}\", font=fnt, fill=(255,255,255,255))\n",
    "#         display(txt)\n",
    "        data1.append(txt)"
   ]
  },
  {
   "cell_type": "code",
   "execution_count": null,
   "metadata": {},
   "outputs": [],
   "source": [
    "img_con =[]\n",
    "\n",
    "for i in range(len(data1)):\n",
    "    image=Image.open(\"maxresdefault.png\")\n",
    "    image=image.convert('RGB')\n",
    "    final=PIL.Image.new(image.mode, (image.width,image.height+30))\n",
    "    x=0\n",
    "    y=0\n",
    "    final.paste(image, (x, y))\n",
    "    final.paste(data1[i],(x,image.height))\n",
    "#   display(final)\n",
    "    img_con.append(final)\n",
    "len(img_con)"
   ]
  },
  {
   "cell_type": "code",
   "execution_count": null,
   "metadata": {},
   "outputs": [],
   "source": [
    "images = []\n",
    "intensity = [0.1,0.5,0.9]*3\n",
    "for j in range(len(img_con)):\n",
    "    image=img_con[j]\n",
    "    for y in range(image.size[1]):\n",
    "        for x in range(image.size[0]):\n",
    "            r,g,b = image.getpixel((x,y))\n",
    "            if(j>=3 and j<=5):\n",
    "                image.putpixel((x,y),(int(r*intensity[j]),g,b))\n",
    "            elif(j>5):\n",
    "                image.putpixel((x,y),(r,int(g*intensity[j]),b))\n",
    "            elif(j<=2):\n",
    "                image.putpixel((x,y),(r,g,int(b*intensity[j])))\n",
    "#     display(image)\n",
    "    images.append(image)"
   ]
  },
  {
   "cell_type": "code",
   "execution_count": null,
   "metadata": {},
   "outputs": [],
   "source": [
    "first_image=images[0]\n",
    "contact_sheet=PIL.Image.new(first_image.mode, (first_image.width*3,(first_image.height)*3))\n",
    "x=0\n",
    "y=0\n",
    "for img in images:\n",
    "    # Lets paste the current image into the contact sheet\n",
    "    contact_sheet.paste(img, (x, y) )\n",
    "    # Now we update our X position. If it is going to be the width of the image, then we set it to 0\n",
    "    # and update Y as well to point to the next \"line\" of the contact sheet.\n",
    "    if x+first_image.width == contact_sheet.width:\n",
    "        x=0\n",
    "        y=y+first_image.height\n",
    "    else:\n",
    "        x=x+first_image.width"
   ]
  },
  {
   "cell_type": "code",
   "execution_count": null,
   "metadata": {},
   "outputs": [],
   "source": [
    "display(contact_sheet)"
   ]
  },
  {
   "cell_type": "code",
   "execution_count": null,
   "metadata": {},
   "outputs": [],
   "source": [
    "# There are a bunch of different filters here, but lets just try and apply the BLUR filter.\n",
    "blurred_image=image.filter(PIL.ImageFilter.BLUR)\n",
    "# Uncomment to display blurred image\n",
    "# display(blurred_image)"
   ]
  },
  {
   "cell_type": "code",
   "execution_count": null,
   "metadata": {},
   "outputs": [],
   "source": [
    "enhancer=ImageEnhance.Brightness(image)\n",
    "images=[]\n",
    "for i in range(0, 10):\n",
    "    images.append(enhancer.enhance(i/10))\n",
    "first_image=images[0]\n",
    "from PIL import Image\n",
    "contact_sheet=PIL.Image.new(first_image.mode, (first_image.width,10*first_image.height))\n",
    "current_location = 0\n",
    "for img in images:\n",
    "    # Lets paste the current image into the contact sheet\n",
    "    contact_sheet.paste(img, (0, current_location) )\n",
    "    # And update the current_location counter\n",
    "    current_location=current_location+image.height\n",
    "\n",
    "contact_sheet = contact_sheet.resize((160,900) )\n",
    "# Now lets just display that composite image\n",
    "display(contact_sheet)"
   ]
  },
  {
   "cell_type": "code",
   "execution_count": null,
   "metadata": {},
   "outputs": [],
   "source": [
    "contact_sheet=PIL.Image.new(first_image.mode, (first_image.width*3,first_image.height*3))\n",
    "x=0\n",
    "y=0\n",
    "\n",
    "for img in images[1:]:\n",
    "    # Lets paste the current image into the contact sheet\n",
    "    contact_sheet.paste(img, (x, y) )\n",
    "    # Now we update our X position. If it is going to be the width of the image, then we set it to 0\n",
    "    # and update Y as well to point to the next \"line\" of the contact sheet.\n",
    "    if x+first_image.width == contact_sheet.width:\n",
    "        x=0\n",
    "        y=y+first_image.height\n",
    "    else:\n",
    "        x=x+first_image.width\n",
    "\n",
    "contact_sheet = contact_sheet.resize((int(contact_sheet.width/2),int(contact_sheet.height/2) ))\n",
    "# Now lets display that composite image\n",
    "display(contact_sheet)"
   ]
  },
  {
   "cell_type": "code",
   "execution_count": null,
   "metadata": {},
   "outputs": [],
   "source": []
  }
 ],
 "metadata": {
  "kernelspec": {
   "display_name": "Python 3",
   "language": "python",
   "name": "python3"
  },
  "language_info": {
   "codemirror_mode": {
    "name": "ipython",
    "version": 3
   },
   "file_extension": ".py",
   "mimetype": "text/x-python",
   "name": "python",
   "nbconvert_exporter": "python",
   "pygments_lexer": "ipython3",
   "version": "3.6.4"
  },
  "varInspector": {
   "cols": {
    "lenName": 16,
    "lenType": 16,
    "lenVar": 40
   },
   "kernels_config": {
    "python": {
     "delete_cmd_postfix": "",
     "delete_cmd_prefix": "del ",
     "library": "var_list.py",
     "varRefreshCmd": "print(var_dic_list())"
    },
    "r": {
     "delete_cmd_postfix": ") ",
     "delete_cmd_prefix": "rm(",
     "library": "var_list.r",
     "varRefreshCmd": "cat(var_dic_list()) "
    }
   },
   "types_to_exclude": [
    "module",
    "function",
    "builtin_function_or_method",
    "instance",
    "_Feature"
   ],
   "window_display": false
  }
 },
 "nbformat": 4,
 "nbformat_minor": 2
}
